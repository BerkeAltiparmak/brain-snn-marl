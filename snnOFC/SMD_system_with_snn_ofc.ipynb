{
 "cells": [
  {
   "cell_type": "markdown",
   "metadata": {},
   "source": [
    "# Installs and Imports"
   ]
  },
  {
   "cell_type": "markdown",
   "metadata": {},
   "source": [
    "Disclaimer: You should create a virtual environment using the provided environment.yml and activate it before running the codes below"
   ]
  },
  {
   "cell_type": "code",
   "execution_count": 1,
   "metadata": {},
   "outputs": [],
   "source": [
    "import numpy as np"
   ]
  },
  {
   "cell_type": "markdown",
   "metadata": {},
   "source": [
    "# Define the Spring-Mass-Damper System Class"
   ]
  },
  {
   "cell_type": "code",
   "execution_count": null,
   "metadata": {
    "vscode": {
     "languageId": "plaintext"
    }
   },
   "outputs": [],
   "source": [
    "class SMDSystem:\n",
    "    def __init__(self, A, B, C, noise_params):\n",
    "        \"\"\"\n",
    "        Initialize the SMD system with:\n",
    "          - System matrices A, B, C.\n",
    "          - Noise parameters (process noise V, sensor noise W).\n",
    "        \"\"\"\n",
    "        self.A = A  # state-transition matrix\n",
    "        self.B = B  # control input matrix\n",
    "        self.C = C  # observation matrix\n",
    "        self.V = noise_params['V']  # process noise covariance\n",
    "        self.W = noise_params['W']  # observation noise covariance\n",
    "        \n",
    "    def step(self, x, u):\n",
    "        \"\"\"\n",
    "        Given the current state x and control input u, compute:\n",
    "          - Next state: x_next = A*x + B*u + process_noise.\n",
    "          - Observation: y = C*x_next + sensor_noise.\n",
    "          \n",
    "        Parameters:\n",
    "            x : ndarray, shape (m,)\n",
    "                Current state vector.\n",
    "            u : ndarray, shape (k,)\n",
    "                Control input vector.\n",
    "        \n",
    "        Returns:\n",
    "            x_next : ndarray, shape (m,)\n",
    "                Next state vector.\n",
    "            y : ndarray, shape (n,)\n",
    "                Observation vector.\n",
    "        \"\"\"\n",
    "        m = self.A.shape[0]\n",
    "        n = self.C.shape[0]\n",
    "        \n",
    "        # Process noise: sample from N(0, V)\n",
    "        process_noise = np.random.multivariate_normal(np.zeros(m), self.V)\n",
    "        \n",
    "        # Compute next state: x_next = A*x + B*u + process_noise\n",
    "        x_next = self.A.dot(x) + self.B.dot(u) + process_noise\n",
    "        \n",
    "        # Sensor noise: sample from N(0, W)\n",
    "        sensor_noise = np.random.multivariate_normal(np.zeros(n), self.W)\n",
    "        \n",
    "        # Compute observation: y = C*x_next + sensor_noise\n",
    "        y = self.C.dot(x_next) + sensor_noise\n",
    "        \n",
    "        return x_next, y"
   ]
  }
 ],
 "metadata": {
  "kernelspec": {
   "display_name": "Python 3 (ipykernel)",
   "language": "python",
   "name": "python3"
  },
  "language_info": {
   "codemirror_mode": {
    "name": "ipython",
    "version": 3
   },
   "file_extension": ".py",
   "mimetype": "text/x-python",
   "name": "python",
   "nbconvert_exporter": "python",
   "pygments_lexer": "ipython3",
   "version": "3.13.2"
  }
 },
 "nbformat": 4,
 "nbformat_minor": 4
}
